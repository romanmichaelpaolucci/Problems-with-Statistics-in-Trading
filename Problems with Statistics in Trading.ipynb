{
 "cells": [
  {
   "cell_type": "code",
   "execution_count": 1,
   "id": "3f506ee4-c071-4042-82b6-1a5f7906449f",
   "metadata": {},
   "outputs": [],
   "source": [
    "import numpy as np\n",
    "import pandas as pd"
   ]
  },
  {
   "cell_type": "markdown",
   "id": "b99245d5-900f-46bc-b4ff-170d2f56c7e4",
   "metadata": {},
   "source": [
    "### Problem 1: Parameter Estimation"
   ]
  },
  {
   "cell_type": "code",
   "execution_count": 25,
   "id": "86f530b8-fcb3-4d0f-bfe5-172985783405",
   "metadata": {},
   "outputs": [
    {
     "name": "stdout",
     "output_type": "stream",
     "text": [
      "[1, 1, 0, 0, 0, 0, 0, 0, 0, 0]\n"
     ]
    }
   ],
   "source": [
    "heads = []\n",
    "\n",
    "flips = np.random.binomial(10, .5)\n",
    "for h in range(0, flips):\n",
    "    heads.append(1)\n",
    "\n",
    "heads = heads + [0]*(10 - flips)\n",
    "\n",
    "print(heads)"
   ]
  },
  {
   "cell_type": "markdown",
   "id": "32b3f39f-8f08-41c2-9833-bfe9eadfb077",
   "metadata": {},
   "source": [
    "### Problem 2: Stationarity"
   ]
  },
  {
   "cell_type": "code",
   "execution_count": 76,
   "id": "adf56859-dfef-4342-b890-9bdf2c949a3e",
   "metadata": {},
   "outputs": [
    {
     "name": "stdout",
     "output_type": "stream",
     "text": [
      "[1, 1, 0, 0, 0, 0, 0, 0, 0, 0]\n",
      "Estimated Parameter: 0.2\n",
      "Parameter: 0.3951790387226596\n"
     ]
    }
   ],
   "source": [
    "heads = []\n",
    "\n",
    "p = .5 + np.random.normal(0, .1)\n",
    "flips = np.random.binomial(10, p)\n",
    "for h in range(0, flips):\n",
    "    heads.append(1)\n",
    "\n",
    "heads = heads + [0]*(10 - flips)\n",
    "\n",
    "print(heads)\n",
    "print('Estimated Parameter:', np.mean(heads))\n",
    "print('Parameter:', p)"
   ]
  },
  {
   "cell_type": "markdown",
   "id": "71c86c04-ee93-4448-bbb1-62a58135fb58",
   "metadata": {},
   "source": [
    "### Problem 3: \"Edge\"\n",
    "\n",
    "Consider trading strategy $S$, we can define the expected P/L as follows...\n",
    "\n",
    "$$\\mathbb{E}[S] = \\mathbb{E}[S | W = 1]P(W = 1) + \\mathbb{E}[S | W = 0]P(W = 0)$$\n",
    "\n",
    "Where clearly the expectations and probabilities have to be estimated from data..."
   ]
  },
  {
   "cell_type": "code",
   "execution_count": 35,
   "id": "96a5d842-5f33-4640-aad9-9f11660d4267",
   "metadata": {},
   "outputs": [
    {
     "data": {
      "text/html": [
       "<div>\n",
       "<style scoped>\n",
       "    .dataframe tbody tr th:only-of-type {\n",
       "        vertical-align: middle;\n",
       "    }\n",
       "\n",
       "    .dataframe tbody tr th {\n",
       "        vertical-align: top;\n",
       "    }\n",
       "\n",
       "    .dataframe thead th {\n",
       "        text-align: right;\n",
       "    }\n",
       "</style>\n",
       "<table border=\"1\" class=\"dataframe\">\n",
       "  <thead>\n",
       "    <tr style=\"text-align: right;\">\n",
       "      <th></th>\n",
       "      <th>P/L</th>\n",
       "      <th>Win</th>\n",
       "      <th>Loss</th>\n",
       "    </tr>\n",
       "  </thead>\n",
       "  <tbody>\n",
       "    <tr>\n",
       "      <th>0</th>\n",
       "      <td>150</td>\n",
       "      <td>1</td>\n",
       "      <td>0</td>\n",
       "    </tr>\n",
       "    <tr>\n",
       "      <th>1</th>\n",
       "      <td>120</td>\n",
       "      <td>1</td>\n",
       "      <td>0</td>\n",
       "    </tr>\n",
       "    <tr>\n",
       "      <th>2</th>\n",
       "      <td>90</td>\n",
       "      <td>1</td>\n",
       "      <td>0</td>\n",
       "    </tr>\n",
       "    <tr>\n",
       "      <th>3</th>\n",
       "      <td>100</td>\n",
       "      <td>1</td>\n",
       "      <td>0</td>\n",
       "    </tr>\n",
       "    <tr>\n",
       "      <th>4</th>\n",
       "      <td>-300</td>\n",
       "      <td>0</td>\n",
       "      <td>1</td>\n",
       "    </tr>\n",
       "    <tr>\n",
       "      <th>5</th>\n",
       "      <td>-100</td>\n",
       "      <td>0</td>\n",
       "      <td>1</td>\n",
       "    </tr>\n",
       "    <tr>\n",
       "      <th>6</th>\n",
       "      <td>-50</td>\n",
       "      <td>0</td>\n",
       "      <td>1</td>\n",
       "    </tr>\n",
       "  </tbody>\n",
       "</table>\n",
       "</div>"
      ],
      "text/plain": [
       "   P/L  Win  Loss\n",
       "0  150    1     0\n",
       "1  120    1     0\n",
       "2   90    1     0\n",
       "3  100    1     0\n",
       "4 -300    0     1\n",
       "5 -100    0     1\n",
       "6  -50    0     1"
      ]
     },
     "execution_count": 35,
     "metadata": {},
     "output_type": "execute_result"
    }
   ],
   "source": [
    "trading_results = pd.DataFrame(columns=['P/L', 'Win', 'Loss'])\n",
    "pl = [150, 120, 90, 100, -300, -100, -50]\n",
    "wins = [1, 1, 1, 1, 0, 0, 0]\n",
    "losses = [0, 0, 0, 0, 1, 1, 1]\n",
    "\n",
    "trading_results['P/L'] = pl\n",
    "trading_results['Win'] = wins\n",
    "trading_results['Loss'] = losses\n",
    "\n",
    "trading_results"
   ]
  },
  {
   "cell_type": "code",
   "execution_count": 47,
   "id": "04c04d99-5604-4e42-a085-07a67b3d55df",
   "metadata": {},
   "outputs": [
    {
     "name": "stdout",
     "output_type": "stream",
     "text": [
      "Expected P/L: 1.4285714285714286\n",
      "Expected Win P/L: 115.0\n",
      "Expected Loss P/L: -150.0\n",
      "Probability of Win:  0.5714285714285714\n",
      "Probability of Win:  0.42857142857142855\n"
     ]
    }
   ],
   "source": [
    "print(\"Expected P/L:\", float(np.mean(trading_results['P/L'])))\n",
    "print(\"Expected Win P/L:\", float(np.mean(trading_results[trading_results['Win'] > 0]['P/L'])))\n",
    "print(\"Expected Loss P/L:\", float(np.mean(trading_results[trading_results['Loss'] > 0]['P/L'])))\n",
    "print(\"Probability of Win: \", float(np.mean(trading_results['Win'])))\n",
    "print(\"Probability of Loss: \", float(np.mean(trading_results['Loss'])))"
   ]
  },
  {
   "cell_type": "markdown",
   "id": "1352ad17-92a0-4c72-a34e-0a4aaf2a478c",
   "metadata": {},
   "source": [
    "### Equity Curve of Strategy $S$"
   ]
  },
  {
   "cell_type": "code",
   "execution_count": 89,
   "id": "c47cd2a3-9609-4255-a8bd-2f59e82353f1",
   "metadata": {},
   "outputs": [
    {
     "data": {
      "text/plain": [
       "[<matplotlib.lines.Line2D at 0x21e16a071f0>]"
      ]
     },
     "execution_count": 89,
     "metadata": {},
     "output_type": "execute_result"
    },
    {
     "data": {
      "image/png": "[encoded data removed]",
      "text/plain": [
       "<Figure size 640x480 with 1 Axes>"
      ]
     },
     "metadata": {},
     "output_type": "display_data"
    }
   ],
   "source": [
    "import matplotlib.pyplot as plt\n",
    "\n",
    "pl = [0]\n",
    "for i in range(1000):\n",
    "    pl.append(115 if np.random.binomial(1, .6) > 0 else -150)\n",
    "\n",
    "plt.plot(np.cumsum(pl))"
   ]
  },
  {
   "cell_type": "markdown",
   "id": "2521cc22-1cce-42ab-82ca-47cf7fb823dc",
   "metadata": {},
   "source": [
    "$\\mathbb{E}[S] = \\mathbb{E}[S | W = 1]P(W = 1) + \\mathbb{E}[S | W = 0]P(W = 0)$"
   ]
  },
  {
   "cell_type": "code",
   "execution_count": 48,
   "id": "9f433772-f239-46d3-8cf7-0f6602181228",
   "metadata": {},
   "outputs": [],
   "source": [
    "import ipywidgets as widgets\n",
    "from IPython.display import display"
   ]
  },
  {
   "cell_type": "code",
   "execution_count": 54,
   "id": "a61b9fb1-2683-446b-adaa-e6534e3c65e8",
   "metadata": {
    "jupyter": {
     "source_hidden": true
    }
   },
   "outputs": [
    {
     "data": {
      "application/vnd.jupyter.widget-view+json": {
       "model_id": "538e62282f96479a84bfcbddebf162bf",
       "version_major": 2,
       "version_minor": 0
      },
      "text/plain": [
       "FloatSlider(value=0.5714285714285714, continuous_update=False, description='Win Probability:', max=1.0, step=0…"
      ]
     },
     "metadata": {},
     "output_type": "display_data"
    },
    {
     "data": {
      "application/vnd.jupyter.widget-view+json": {
       "model_id": "5c282aecc46549a7a6b0e3ec526b97cb",
       "version_major": 2,
       "version_minor": 0
      },
      "text/plain": [
       "FloatSlider(value=115.0, continuous_update=False, description='Win Expectation:', max=200.0, min=-200.0, step=…"
      ]
     },
     "metadata": {},
     "output_type": "display_data"
    },
    {
     "data": {
      "application/vnd.jupyter.widget-view+json": {
       "model_id": "fc1da7bbba674d9a8ce27f4e6cd9ca11",
       "version_major": 2,
       "version_minor": 0
      },
      "text/plain": [
       "FloatSlider(value=-150.0, continuous_update=False, description='Loss Expectation:', max=200.0, min=-200.0, ste…"
      ]
     },
     "metadata": {},
     "output_type": "display_data"
    }
   ],
   "source": [
    "# Calculate initial values\n",
    "expected_pl = float(np.mean(trading_results['P/L']))\n",
    "expected_win_pl = float(np.mean(trading_results[trading_results['Win'] > 0]['P/L']))\n",
    "expected_loss_pl = float(np.mean(trading_results[trading_results['Loss'] > 0]['P/L']))\n",
    "probability_win = float(np.mean(trading_results['Win']))\n",
    "probability_loss = float(np.mean(trading_results['Loss']))\n",
    "\n",
    "# Create sliders\n",
    "win_prob_slider = widgets.FloatSlider(\n",
    "    value=probability_win, min=0, max=1, step=0.01, description='Win Probability:', continuous_update=False\n",
    ")\n",
    "win_exp_slider = widgets.FloatSlider(\n",
    "    value=expected_win_pl, min=-200, max=200, step=1, description='Win Expectation:', continuous_update=False\n",
    ")\n",
    "loss_exp_slider = widgets.FloatSlider(\n",
    "    value=expected_loss_pl, min=-200, max=200, step=1, description='Loss Expectation:', continuous_update=False\n",
    ")\n",
    "\n",
    "def update_expectation(win_prob, win_exp, loss_exp):\n",
    "    loss_prob = 1 - win_prob  # Loss probability is complementary to win probability\n",
    "    expected_pl = win_prob * win_exp + loss_prob * loss_exp  # Law of Total Expectation\n",
    "    clear_output(wait=True)\n",
    "    display(win_prob_slider, win_exp_slider, loss_exp_slider)\n",
    "    print(\"\\n--- Updated Results ---\")\n",
    "    print(f\"Expected P/L: {expected_pl:.2f}\")\n",
    "    print(f\"Probability of Win: {win_prob:.2f}\")\n",
    "    print(f\"Probability of Loss: {loss_prob:.2f}\")\n",
    "    print(f\"Expected Win P/L: {win_exp:.2f}\")\n",
    "    print(f\"Expected Loss P/L: {loss_exp:.2f}\")\n",
    "\n",
    "# Link sliders to function\n",
    "widgets.interactive(\n",
    "    update_expectation,\n",
    "    win_prob=win_prob_slider,\n",
    "    win_exp=win_exp_slider,\n",
    "    loss_exp=loss_exp_slider\n",
    ")\n",
    "\n",
    "# Display sliders\n",
    "display(win_prob_slider, win_exp_slider, loss_exp_slider)\n"
   ]
  },
  {
   "cell_type": "code",
   "execution_count": 95,
   "id": "2557ca60-f33c-4e27-b6b2-a68dfcd311d5",
   "metadata": {},
   "outputs": [
    {
     "data": {
      "text/plain": [
       "4.979999999999999"
      ]
     },
     "execution_count": 95,
     "metadata": {},
     "output_type": "execute_result"
    }
   ],
   "source": [
    "win_prob_slider.value * win_exp_slider.value + (1 - win_prob_slider.value) * loss_exp_slider.value"
   ]
  },
  {
   "cell_type": "markdown",
   "id": "1a74c1c5-f843-456f-a50e-784ac290f8bc",
   "metadata": {},
   "source": [
    "### New Equity Curve"
   ]
  },
  {
   "cell_type": "code",
   "execution_count": 96,
   "id": "3026ae37-16ef-4514-b65e-62c2504c22b1",
   "metadata": {},
   "outputs": [
    {
     "data": {
      "text/plain": [
       "[<matplotlib.lines.Line2D at 0x21e1880e8f0>]"
      ]
     },
     "execution_count": 96,
     "metadata": {},
     "output_type": "execute_result"
    },
    {
     "data": {
      "image/png": "[encoded data removed]",
      "text/plain": [
       "<Figure size 640x480 with 1 Axes>"
      ]
     },
     "metadata": {},
     "output_type": "display_data"
    }
   ],
   "source": [
    "import matplotlib.pyplot as plt\n",
    "\n",
    "pl = [0]\n",
    "for i in range(252):\n",
    "    pl.append(win_exp_slider.value if np.random.binomial(1, win_prob_slider.value) > 0 else loss_exp_slider.value)\n",
    "\n",
    "plt.plot(np.cumsum(pl))"
   ]
  },
  {
   "cell_type": "code",
   "execution_count": null,
   "id": "257b1bef-439f-4dd9-89c2-c901b73be33f",
   "metadata": {},
   "outputs": [],
   "source": []
  },
  {
   "cell_type": "code",
   "execution_count": null,
   "id": "f96267c9-337b-4b23-81e2-b96eccf02767",
   "metadata": {},
   "outputs": [],
   "source": []
  }
 ],
 "metadata": {
  "kernelspec": {
   "display_name": "Python 3 (ipykernel)",
   "language": "python",
   "name": "python3"
  },
  "language_info": {
   "codemirror_mode": {
    "name": "ipython",
    "version": 3
   },
   "file_extension": ".py",
   "mimetype": "text/x-python",
   "name": "python",
   "nbconvert_exporter": "python",
   "pygments_lexer": "ipython3",
   "version": "3.10.11"
  }
 },
 "nbformat": 4,
 "nbformat_minor": 5
}
